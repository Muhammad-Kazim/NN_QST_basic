{
 "cells": [
  {
   "cell_type": "code",
   "execution_count": 1,
   "id": "0530a101",
   "metadata": {},
   "outputs": [],
   "source": [
    "from IPython.display import display\n",
    "import numpy as np\n",
    "import matplotlib.pyplot as plt\n",
    "import qutip as qt\n",
    "from mpltools import special\n",
    "from qiskit import *\n",
    "from qiskit.ignis.mitigation.measurement import (complete_meas_cal, CompleteMeasFitter)\n",
    "from qiskit.quantum_info.synthesis import OneQubitEulerDecomposer\n",
    "from qiskit.tools.visualization import plot_histogram\n",
    "from qiskit.extensions import Initialize\n",
    "from qiskit.tools.monitor import job_monitor\n",
    "IBMQ.save_account('0a1c53ad870ce01b732d806b4767e84fbdafb8d3278f97443e696c837282b2095361917ce1ed97757fcc71816dffa996363b64f7d4e27263a1947c5ccafe2ac0', overwrite=True)\n",
    "IBMQ.load_account()\n",
    "provider = IBMQ.get_provider('ibm-q')\n",
    "import pandas as pd\n",
    "from qiskit.providers.aer import AerSimulator\n",
    "from qiskit.test.mock import FakeQuito"
   ]
  },
  {
   "cell_type": "code",
   "execution_count": 3,
   "id": "57ea605e",
   "metadata": {},
   "outputs": [],
   "source": [
    "cols = ['E1', 'E2', 'E3', 'E4', 'E5', 'E6', 'E7', 'E8',\n",
    "        'E9', 'E10', 'E11', 'E12', 'E13', 'E14', 'E15', 'E16',\n",
    "        'II_00', 'II_01', 'II_10', 'II_11', 'IX_00', 'IX_01', 'IX_10', 'IX_11',\n",
    "        'IY_00', 'IY_01', 'IY_10', 'IY_11', 'IZ_00', 'IZ_01', 'IZ_10', 'IZ_11',\n",
    "        'XI_00', 'XI_01', 'XI_10', 'XI_11', 'XX_00', 'XX_01', 'XX_10', 'XX_11',\n",
    "        'XY_00', 'XY_01', 'XY_10', 'XY_11', 'XZ_00', 'XZ_01', 'XZ_10', 'XZ_11',\n",
    "        'YI_00', 'YI_01', 'YI_10', 'YI_11', 'YX_00', 'YX_01', 'YX_10', 'YX_11',\n",
    "        'YY_00', 'YY_01', 'YY_10', 'YY_11', 'YZ_00', 'YZ_01', 'YZ_10', 'YZ_11',\n",
    "        'ZI_00', 'ZI_01', 'ZI_10', 'ZI_11', 'ZX_00', 'ZX_01', 'ZX_10', 'ZX_11',\n",
    "        'ZY_00', 'ZY_01', 'ZY_10', 'ZY_11', 'ZZ_00', 'ZZ_01', 'ZZ_10', 'ZZ_11']"
   ]
  },
  {
   "cell_type": "code",
   "execution_count": 4,
   "id": "9ad82e78",
   "metadata": {
    "scrolled": true
   },
   "outputs": [
    {
     "name": "stdout",
     "output_type": "stream",
     "text": [
      "Data Points Saved = 0e03\n"
     ]
    }
   ],
   "source": [
    "#Create #datapoints and save dataframe corresponding to cols\n",
    "\n",
    "qbts = 2\n",
    "shots = 1000\n",
    "data_pts = 1000\n",
    "device_backend = FakeQuito()\n",
    "sim_quito = AerSimulator.from_backend(device_backend)\n",
    "\n",
    "lk = 0\n",
    "for jk in range(data_pts):\n",
    "    desired_vector = np.array(qt.rand_ket_haar(2**qbts)).reshape(2**qbts)\n",
    "\n",
    "    iter_arr = np.array(qt.ket2dm(qt.Qobj(desired_vector))).reshape(-1)\n",
    "\n",
    "    for ij in range(4**qbts):\n",
    "        \n",
    "        qr = QuantumRegister(qbts)\n",
    "        cr = ClassicalRegister(qbts)\n",
    "        circ = QuantumCircuit(qr, cr)\n",
    "        circ.initialize(desired_vector, [qr[0],qr[1]])\n",
    "        \n",
    "        if ij == 0:\n",
    "            #II measurement\n",
    "            circ.measure(qr, cr)\n",
    "\n",
    "        if ij == 1:\n",
    "            #IX measurement\n",
    "            circ.h(qr[1])\n",
    "            circ.measure(qr, cr)\n",
    "\n",
    "        if ij == 2:\n",
    "            #IY measurement\n",
    "            circ.sdg(qr[1])\n",
    "            circ.h(qr[1])\n",
    "            circ.measure(qr, cr)\n",
    "\n",
    "        if ij == 3:\n",
    "            #IZ measurement\n",
    "            circ.measure(qr, cr)\n",
    "\n",
    "        if ij == 4:\n",
    "            #XI measurement\n",
    "            circ.h(qr[0])\n",
    "            circ.measure(qr, cr)\n",
    "\n",
    "        if ij == 5:\n",
    "            #XX measurement\n",
    "            circ.h(qr[0])\n",
    "            circ.h(qr[1])\n",
    "            circ.measure(qr, cr)\n",
    "\n",
    "        if ij == 6:\n",
    "            #XY measurement\n",
    "            circ.h(qr[0])\n",
    "            circ.sdg(qr[1])\n",
    "            circ.h(qr[1])\n",
    "            circ.measure(qr, cr)\n",
    "\n",
    "        if ij == 7:\n",
    "            #XZ measurement\n",
    "            circ.h(qr[0])\n",
    "            circ.measure(qr, cr)\n",
    "\n",
    "        if ij == 8:\n",
    "            #YI measurement\n",
    "            circ.sdg(qr[0])\n",
    "            circ.h(qr[0])\n",
    "            circ.measure(qr, cr)\n",
    "\n",
    "        if ij == 9:\n",
    "            #YX measurement\n",
    "            circ.sdg(qr[0])\n",
    "            circ.h(qr[0])\n",
    "            circ.h(qr[1])\n",
    "            circ.measure(qr, cr)\n",
    "\n",
    "        if ij == 10:\n",
    "            #YY measurement\n",
    "            circ.sdg(qr[0])\n",
    "            circ.h(qr[0])\n",
    "            circ.sdg(qr[1])\n",
    "            circ.h(qr[1])\n",
    "            circ.measure(qr, cr)\n",
    "\n",
    "        if ij == 11:\n",
    "            #YZ measurement\n",
    "            circ.sdg(qr[0])\n",
    "            circ.h(qr[0])\n",
    "            circ.measure(qr, cr)\n",
    "\n",
    "        if ij == 12:\n",
    "            #ZI measurement\n",
    "            circ.measure(qr, cr)\n",
    "\n",
    "        if ij == 13:\n",
    "            #ZX measurement\n",
    "            circ.h(qr[1])\n",
    "            circ.measure(qr, cr)\n",
    "\n",
    "        if ij == 14:\n",
    "            #ZY measurement\n",
    "            circ.sdg(qr[1])\n",
    "            circ.h(qr[1])\n",
    "            circ.measure(qr, cr)\n",
    "\n",
    "        if ij == 15:\n",
    "            #ZZ measurement\n",
    "            circ.measure(qr, cr)\n",
    "\n",
    "        # circuit.draw(output='mpl')\n",
    "\n",
    "        # Transpile the circuit for the noisy basis gates\n",
    "        tcirc = transpile(circ, sim_quito)\n",
    "\n",
    "        # Execute noisy simulation and get counts\n",
    "        result_noise = sim_quito.run(tcirc, shots = shots).result()\n",
    "        counts_noise = result_noise.get_counts(0)\n",
    "        \n",
    "        data = {\n",
    "            '00': counts_noise['00'],\n",
    "            '01': counts_noise['01'],\n",
    "            '10': counts_noise['10'],\n",
    "            '11': counts_noise['11']\n",
    "               }\n",
    "        \n",
    "        temp_df = pd.DataFrame(data, index = [0])\n",
    "        iter_arr = np.append(iter_arr, temp_df.loc[0].to_numpy())\n",
    "    \n",
    "    if len(iter_arr) == 80:\n",
    "        df_2 = pd.DataFrame(iter_arr.reshape(1, 80), columns = cols, index=[jk])\n",
    "        df_2.to_csv('Pure_4d_Data.csv', mode = 'a', header = False)\n",
    "    \n",
    "    if jk % 1000 == 0:\n",
    "        print(\"Data Points Saved = {}e03\".format(lk))\n",
    "        lk += 1\n",
    "\n",
    "# plot_histogram(counts_noise,\n",
    "#title=\"Counts for 2-qubit pure state with IBM_Quito noise model\")"
   ]
  },
  {
   "cell_type": "code",
   "execution_count": 7,
   "id": "9fa2f883",
   "metadata": {},
   "outputs": [
    {
     "data": {
      "text/plain": [
       "array([[ 320.+0.j,  411.+0.j,   98.+0.j,  171.+0.j],\n",
       "       [ 406.+0.j, -325.+0.j,   93.+0.j, -176.+0.j],\n",
       "       [ 726.+0.j,   -5.+0.j,  257.+0.j,  -12.+0.j],\n",
       "       [ 320.+0.j, -411.+0.j,   98.+0.j, -171.+0.j],\n",
       "       [ 367.+0.j,  -51.+0.j,  556.+0.j,  -26.+0.j],\n",
       "       [ 279.+0.j, -213.+0.j,  184.+0.j, -325.+0.j],\n",
       "       [ 477.+0.j,  -14.+0.j,  442.+0.j,  -67.+0.j],\n",
       "       [ 367.+0.j,  -51.+0.j,   26.+0.j, -556.+0.j],\n",
       "       [ 129.+0.j, -289.+0.j,  283.+0.j, -299.+0.j],\n",
       "       [ 477.+0.j,  -14.+0.j,   67.+0.j, -442.+0.j],\n",
       "       [ 213.+0.j, -279.+0.j,  184.+0.j, -325.+0.j],\n",
       "       [ 129.+0.j, -289.+0.j,  299.+0.j, -283.+0.j],\n",
       "       [ 320.+0.j,  411.+0.j,  -98.+0.j, -171.+0.j],\n",
       "       [ 406.+0.j, -325.+0.j,  176.+0.j,  -93.+0.j],\n",
       "       [ 726.+0.j,   -5.+0.j,   12.+0.j, -257.+0.j],\n",
       "       [ 320.+0.j, -411.+0.j,  -98.+0.j,  171.+0.j]])"
      ]
     },
     "execution_count": 7,
     "metadata": {},
     "output_type": "execute_result"
    }
   ],
   "source": [
    "shots = 1000\n",
    "\n",
    "I = np.array([[1, 0],\n",
    "              [0, 1]], dtype = 'complex')\n",
    "X = np.array([[0, 1],\n",
    "              [1, 0]], dtype = 'complex')\n",
    "Y = np.array([[0, -1j],\n",
    "              [1j, 0]], dtype = 'complex')\n",
    "Z = np.array([[1, 0],\n",
    "              [0, -1]], dtype = 'complex')\n",
    "\n",
    "pauli = np.array([I, X, Y ,Z], dtype = 'complex')\n",
    "mn_ideal = np.zeros([16, 4], dtype = 'complex')\n",
    "df_2_r = df_2.iloc[0,16:].to_numpy(dtype = 'complex').reshape(16,4)\n",
    "# mn_rnd = np.zeros([16, 4])\n",
    "\n",
    "for ij in range(4):\n",
    "    for jk in range(4):\n",
    "        optr = np.kron(pauli[ij], pauli[jk])\n",
    "        eig_val, eig_vec = np.linalg.eig(optr)\n",
    "        for kl in range(4):\n",
    "            proj = np.matrix(eig_vec[:, kl]).T\n",
    "            mn_ideal[4*ij + jk, kl] = np.trace(np.matmul(rho, np.matmul(proj, proj.H)))*eig_val[kl]\n",
    "            df_2_r[4*ij + jk, kl] = df_2_r[4*ij + jk, kl]*eig_val[kl]\n",
    "\n",
    "mn_ideal = (1000*mn_ideal).round()\n",
    "mn_ideal"
   ]
  },
  {
   "cell_type": "code",
   "execution_count": 8,
   "id": "1c4527df",
   "metadata": {},
   "outputs": [
    {
     "data": {
      "text/latex": [
       "Quantum object: dims = [[4], [4]], shape = (4, 4), type = oper, isherm = True\\begin{equation*}\\left(\\begin{array}{*{11}c}0.320 & (0.041-0.360j) & (0.158+0.080j) & (0.033-0.231j)\\\\(0.041+0.360j) & 0.411 & (-0.071+0.188j) & (0.265+0.008j)\\\\(0.158-0.080j) & (-0.071-0.188j) & 0.098 & (-0.042-0.122j)\\\\(0.033+0.231j) & (0.265-0.008j) & (-0.042+0.122j) & 0.171\\\\\\end{array}\\right)\\end{equation*}"
      ],
      "text/plain": [
       "Quantum object: dims = [[4], [4]], shape = (4, 4), type = oper, isherm = True\n",
       "Qobj data =\n",
       "[[ 0.32  +0.j      0.0405-0.3605j  0.158 +0.08j    0.033 -0.2315j]\n",
       " [ 0.0405+0.3605j  0.411 +0.j     -0.0705+0.1875j  0.265 +0.008j ]\n",
       " [ 0.158 -0.08j   -0.0705-0.1875j  0.098 +0.j     -0.0415-0.1225j]\n",
       " [ 0.033 +0.2315j  0.265 -0.008j  -0.0415+0.1225j  0.171 +0.j    ]]"
      ]
     },
     "metadata": {},
     "output_type": "display_data"
    },
    {
     "data": {
      "text/latex": [
       "Quantum object: dims = [[4], [4]], shape = (4, 4), type = oper, isherm = True\\begin{equation*}\\left(\\begin{array}{*{11}c}0.404 & (0.058-0.028j) & (0.006-0.023j) & (0.050-0.217j)\\\\(0.058+0.028j) & 0.323 & (-0.044-0.170j) & (0.018+0.220j)\\\\(0.006+0.023j) & (-0.044+0.170j) & 0.160 & (-0.019-0.067j)\\\\(0.050+0.217j) & (0.018-0.220j) & (-0.019+0.067j) & 0.113\\\\\\end{array}\\right)\\end{equation*}"
      ],
      "text/plain": [
       "Quantum object: dims = [[4], [4]], shape = (4, 4), type = oper, isherm = True\n",
       "Qobj data =\n",
       "[[ 0.404+0.j      0.058-0.0285j  0.006-0.023j   0.05 -0.2175j]\n",
       " [ 0.058+0.0285j  0.323+0.j     -0.044-0.1705j  0.018+0.22j  ]\n",
       " [ 0.006+0.023j  -0.044+0.1705j  0.16 +0.j     -0.019-0.0675j]\n",
       " [ 0.05 +0.2175j  0.018-0.22j   -0.019+0.0675j  0.113+0.j    ]]"
      ]
     },
     "metadata": {},
     "output_type": "display_data"
    },
    {
     "data": {
      "text/latex": [
       "Quantum object: dims = [[4], [4]], shape = (4, 4), type = oper, isherm = True\\begin{equation*}\\left(\\begin{array}{*{11}c}0.320 & (0.040-0.360j) & (0.158+0.080j) & (0.033-0.232j)\\\\(0.040+0.360j) & 0.411 & (-0.070+0.188j) & (0.265+0.008j)\\\\(0.158-0.080j) & (-0.070-0.188j) & 0.098 & (-0.042-0.123j)\\\\(0.033+0.232j) & (0.265-0.008j) & (-0.042+0.123j) & 0.171\\\\\\end{array}\\right)\\end{equation*}"
      ],
      "text/plain": [
       "Quantum object: dims = [[4], [4]], shape = (4, 4), type = oper, isherm = True\n",
       "Qobj data =\n",
       "[[ 0.32024568+0.j          0.04025425-0.36042672j  0.15791412+0.08011981j\n",
       "   0.03301339-0.23176415j]\n",
       " [ 0.04025425+0.36042672j  0.41070913+0.j         -0.07032291+0.18779841j\n",
       "   0.26499319+0.00802327j]\n",
       " [ 0.15791412-0.08011981j -0.07032291-0.18779841j  0.0979125 +0.j\n",
       "  -0.0417043 -0.12254298j]\n",
       " [ 0.03301339+0.23176415j  0.26499319-0.00802327j -0.0417043 +0.12254298j\n",
       "   0.1711327 +0.j        ]]"
      ]
     },
     "metadata": {},
     "output_type": "display_data"
    }
   ],
   "source": [
    "r = np.sum(mn_ideal, axis = 1)/1000\n",
    "r = r.reshape(4,4)\n",
    "r = r/4\n",
    "df_2_r = np.sum(df_2_r, axis=1)/4000\n",
    "df_2_r = df_2_r.reshape(4,4)\n",
    "\n",
    "state = np.zeros([4,4], dtype = 'complex')\n",
    "state_fq = np.zeros([4,4], dtype = 'complex')\n",
    "\n",
    "for ij in range(4):\n",
    "    for jk in range(4):\n",
    "        state += r[ij, jk]*np.kron(pauli[ij], pauli[jk])\n",
    "        state_fq += df_2_r[ij, jk]*np.kron(pauli[ij], pauli[jk])\n",
    "        \n",
    "display(qt.Qobj(state), qt.Qobj(state_fq), qt.Qobj(rho))"
   ]
  },
  {
   "cell_type": "code",
   "execution_count": 208,
   "id": "deed0a47",
   "metadata": {},
   "outputs": [
    {
     "data": {
      "text/plain": [
       "array([[ 264.+0.j,  239.+0.j,  196.+0.j,  302.+0.j],\n",
       "       [ 107.+0.j, -396.+0.j,  207.+0.j, -290.+0.j],\n",
       "       [ 457.+0.j,  -46.+0.j,    9.+0.j, -488.+0.j],\n",
       "       [ 264.+0.j, -239.+0.j,  196.+0.j, -302.+0.j],\n",
       "       [  12.+0.j, -447.+0.j,  399.+0.j, -142.+0.j],\n",
       "       [ 408.+0.j, -158.+0.j,  387.+0.j,  -48.+0.j],\n",
       "       [ 536.+0.j,  -30.+0.j,   83.+0.j, -352.+0.j],\n",
       "       [  12.+0.j, -447.+0.j,  142.+0.j, -399.+0.j],\n",
       "       [ 294.+0.j, -165.+0.j,   35.+0.j, -506.+0.j],\n",
       "       [ 536.+0.j,  -30.+0.j,  352.+0.j,  -83.+0.j],\n",
       "       [ 158.+0.j, -408.+0.j,  387.+0.j,  -48.+0.j],\n",
       "       [ 294.+0.j, -165.+0.j,  506.+0.j,  -35.+0.j],\n",
       "       [ 264.+0.j,  239.+0.j, -196.+0.j, -302.+0.j],\n",
       "       [ 107.+0.j, -396.+0.j,  290.+0.j, -207.+0.j],\n",
       "       [ 457.+0.j,  -46.+0.j,  488.+0.j,   -9.+0.j],\n",
       "       [ 264.+0.j, -239.+0.j, -196.+0.j,  302.+0.j]])"
      ]
     },
     "execution_count": 208,
     "metadata": {},
     "output_type": "execute_result"
    }
   ],
   "source": [
    "mn_ideal"
   ]
  },
  {
   "cell_type": "code",
   "execution_count": 48,
   "id": "cab730f7",
   "metadata": {},
   "outputs": [],
   "source": [
    "temp3 = pd.DataFrame(np.tile(np.array([counts_noise['00'], counts_noise['01'], counts_noise['10'],counts_noise['11']]), [10,1]).reshape(10,4),\n",
    "             columns = ['00', '01', '10', '11'])"
   ]
  },
  {
   "cell_type": "code",
   "execution_count": 53,
   "id": "bdb630f6",
   "metadata": {},
   "outputs": [
    {
     "data": {
      "text/plain": [
       "array([[770],\n",
       "       [770],\n",
       "       [770],\n",
       "       [770],\n",
       "       [770],\n",
       "       [770],\n",
       "       [770],\n",
       "       [770],\n",
       "       [770],\n",
       "       [770]])"
      ]
     },
     "execution_count": 53,
     "metadata": {},
     "output_type": "execute_result"
    }
   ],
   "source": [
    "temp3['00'].to_numpy().reshape(10,1) + temp3['11'].to_numpy().reshape(10,1)"
   ]
  }
 ],
 "metadata": {
  "kernelspec": {
   "display_name": "Python 3",
   "language": "python",
   "name": "python3"
  },
  "language_info": {
   "codemirror_mode": {
    "name": "ipython",
    "version": 3
   },
   "file_extension": ".py",
   "mimetype": "text/x-python",
   "name": "python",
   "nbconvert_exporter": "python",
   "pygments_lexer": "ipython3",
   "version": "3.9.2"
  }
 },
 "nbformat": 4,
 "nbformat_minor": 5
}
